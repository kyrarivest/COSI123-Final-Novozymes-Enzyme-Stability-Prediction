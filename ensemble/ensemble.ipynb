{
 "cells": [
  {
   "cell_type": "code",
   "execution_count": 1,
   "id": "dba680af",
   "metadata": {},
   "outputs": [],
   "source": [
    "import numpy as np\n",
    "import pandas as pd\n",
    "import csv\n",
    "from scipy.stats import rankdata"
   ]
  },
  {
   "cell_type": "code",
   "execution_count": 2,
   "id": "65ff6b7b",
   "metadata": {},
   "outputs": [],
   "source": [
    "test_df = pd.read_csv(\"ensemble.csv\")"
   ]
  },
  {
   "cell_type": "code",
   "execution_count": 3,
   "id": "570e4bd3",
   "metadata": {},
   "outputs": [],
   "source": [
    "def rank_nrom(name):\n",
    "    s = test_df['{}_rank'.format(name)]\n",
    "    return s/s.max()\n",
    "\n",
    "test_df['tm'] = (\n",
    "    5*rank_nrom('rosetta') + 3*rank_nrom('rmsd') + 3*rank_nrom('thermonet') + 3*rank_nrom('plddtdiff') +\\\n",
    "    rank_nrom('sasaf') + rank_nrom('plddt') + rank_nrom('demask') + rank_nrom('ddg') + rank_nrom('blosum')\n",
    ")\n",
    "\n",
    "test_df['tm'] = test_df['tm']/test_df['tm'].max()"
   ]
  },
  {
   "cell_type": "code",
   "execution_count": 4,
   "id": "70432567",
   "metadata": {},
   "outputs": [],
   "source": [
    "idx = test_df[test_df['type']==\"DEL\"].index\n",
    "test_df.loc[idx, 'tm'] = (\n",
    "    2*rank_nrom('plddt')[idx] + 2*rank_nrom('plddtdiff')[idx] + rank_nrom('rmsd')[idx] + rank_nrom('sasaf')[idx]\n",
    ") / 6"
   ]
  },
  {
   "cell_type": "code",
   "execution_count": 5,
   "id": "a061cbd5",
   "metadata": {},
   "outputs": [],
   "source": [
    "test_df.loc[test_df['type']==\"WT\",'tm'] = test_df['tm'].max()+1"
   ]
  },
  {
   "cell_type": "code",
   "execution_count": 6,
   "id": "68769e45",
   "metadata": {},
   "outputs": [],
   "source": [
    "test_df['tm'] = rankdata(test_df['tm'])\n",
    "test_df['tm_rank'] = test_df['tm']"
   ]
  },
  {
   "cell_type": "code",
   "execution_count": 7,
   "id": "c6f7671e",
   "metadata": {},
   "outputs": [],
   "source": [
    "test_df[['seq_id','tm']].to_csv('submission_final.csv', index=False)"
   ]
  }
 ],
 "metadata": {
  "kernelspec": {
   "display_name": "Python 3 (ipykernel)",
   "language": "python",
   "name": "python3"
  },
  "language_info": {
   "codemirror_mode": {
    "name": "ipython",
    "version": 3
   },
   "file_extension": ".py",
   "mimetype": "text/x-python",
   "name": "python",
   "nbconvert_exporter": "python",
   "pygments_lexer": "ipython3",
   "version": "3.9.6"
  }
 },
 "nbformat": 4,
 "nbformat_minor": 5
}
