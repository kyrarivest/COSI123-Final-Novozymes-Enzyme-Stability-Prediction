{
 "cells": [
  {
   "cell_type": "markdown",
   "metadata": {},
   "source": [
    "# COSI 123a Term Project Final Model"
   ]
  },
  {
   "cell_type": "code",
   "execution_count": null,
   "metadata": {},
   "outputs": [],
   "source": [
    "import numpy as np\n",
    "import pandas as pd\n",
    "import csv\n",
    "import os\n",
    "from tqdm.auto import tqdm\n",
    "from scipy.stats import rankdata\n",
    "import Levenshtein\n",
    "import matplotlib.pyplot as plt\n",
    "import seaborn as sns\n",
    "\n",
    "two_colors = sns.xkcd_palette(['red', 'bright blue'])"
   ]
  },
  {
   "cell_type": "code",
   "execution_count": null,
   "metadata": {},
   "outputs": [],
   "source": [
    "# Load data\n",
    "curr_dir = os.getcwd()\n",
    "\n",
    "# Wild type sequence provided in the \"Dataset Description\"\n",
    "wt = 'VPVNPEPDATSVENVALKTGSGDSQSDPIKADLEVKGQSALPFDVDCWAILCKGAPNVLQRVNEKTKNSNRDRSGANKGPFKDPQKWGIKALPPKNPSWSAQDFKSPEEYAFASSLQGGTNAILAPVNLASQNSQGGVLNGFYSANKVAQFDPSKPQQTKGTWFQITKFTGAAGPYCKALGSNDKSVCDKNKNIAGDWGFDPAKWAYQYDEKNNKFNYVGK'\n",
    "\n",
    "# Read testing set sequences and pH\n",
    "test_df = pd.read_csv(curr_dir + \"/input/novozymes-enzyme-stability-prediction/test.csv\")"
   ]
  },
  {
   "cell_type": "code",
   "execution_count": null,
   "metadata": {},
   "outputs": [],
   "source": [
    "# Add mutation information to testing set\n",
    "result = []\n",
    "for _, row in test_df.iterrows():\n",
    "    ops = Levenshtein.editops(wt, row['protein_sequence'])\n",
    "    assert len(ops) <= 1\n",
    "    if len(ops) > 0 and ops[0][0] == 'replace':\n",
    "        idx = ops[0][1]\n",
    "        result.append(['SUB', idx + 1, wt[idx], row['protein_sequence'][idx]])\n",
    "    elif len(ops) == 0:\n",
    "        result.append(['WT', 0, '', ''])\n",
    "    elif ops[0][0] == 'insert':\n",
    "        assert False, \"Ups\"\n",
    "    elif ops[0][0] == 'delete':\n",
    "        idx = ops[0][1]\n",
    "        result.append(['DEL', idx + 1, wt[idx], '_'])\n",
    "    else:\n",
    "        assert False, \"Ups\"\n",
    "\n",
    "test_df = pd.concat([test_df, pd.DataFrame(data=result, columns=['type', 'resid', 'wt', 'mut'])], axis=1)\n",
    "\n",
    "test_df"
   ]
  },
  {
   "cell_type": "markdown",
   "metadata": {},
   "source": [
    "# Models"
   ]
  },
  {
   "cell_type": "markdown",
   "metadata": {},
   "source": [
    "## Blosum"
   ]
  },
  {
   "cell_type": "code",
   "execution_count": null,
   "metadata": {},
   "outputs": [],
   "source": [
    "def blosum_apply(row):\n",
    "    if row['type'] == 'SUB':\n",
    "        return blosum.loc[row['wt'], row['mut']]\n",
    "    elif row['type'] == 'DEL':\n",
    "        return -10\n",
    "    elif row['type'] == 'WT':\n",
    "        return 0\n",
    "    else:\n",
    "        assert False, \"Ups\"\n",
    "\n",
    "blosum = pd.read_csv(curr_dir + '/input/blosum_data/BLOSUM100.txt', sep='\\s+', comment='#')\n",
    "test_df['blosum'] = test_df.apply(blosum_apply, axis=1)\n",
    "test_df['blosum_rank'] = rankdata(test_df['blosum'])\n",
    "\n",
    "test_df"
   ]
  },
  {
   "cell_type": "markdown",
   "metadata": {},
   "source": [
    "## pLDDT"
   ]
  },
  {
   "cell_type": "code",
   "execution_count": null,
   "metadata": {},
   "outputs": [],
   "source": [
    "plddt = (\n",
    "    pd.read_csv(curr_dir + '/input/novozymes-enzyme-stability-prediction/wildtype_structure_prediction_af2.pdb', sep='\\s+', header=None)[[0,5,10]]\n",
    "    .rename(columns={0:'atom', 5:'resid', 10:'plddt'})\n",
    "    .query('atom==\"ATOM\"')\n",
    "    .drop_duplicates()\n",
    ")\n",
    "\n",
    "\n",
    "# Add B factor to the testing set:\n",
    "test_df = pd.merge(\n",
    "    test_df,\n",
    "    plddt,\n",
    "    left_on='resid',\n",
    "    right_on='resid',\n",
    "    how='left'\n",
    ")\n",
    "\n",
    "\n",
    "\n",
    "test_df['plddt_rank'] = rankdata(-1*test_df['plddt'])\n",
    "\n",
    "test_df"
   ]
  },
  {
   "cell_type": "markdown",
   "metadata": {},
   "source": [
    "## Differential pLDDT"
   ]
  },
  {
   "cell_type": "code",
   "execution_count": null,
   "metadata": {},
   "outputs": [],
   "source": [
    "plddtdiff = []\n",
    "\n",
    "# Wild type result:\n",
    "wt_plddt = (\n",
    "    pd.read_csv(curr_dir + '/input/diff_pLDDT_data/nesp-kvigly-test-mutation-pdbs/WT_unrelaxed_rank_1_model_3.pdb', sep='\\s+')\n",
    "    .loc['ATOM'].reset_index()\n",
    "    .loc[:, ['level_4', 'MODEL']].drop_duplicates()\n",
    "    .rename(columns={'level_4':'resid', 'MODEL':'plddt'})\n",
    "    .astype({'resid':int})\n",
    "    .set_index('resid')\n",
    ")\n",
    "\n",
    "# Add difference in pLDDTto the testing set:>\n",
    "for _,row in tqdm(test_df.iterrows(), total=test_df.shape[0]):\n",
    "    file_path = curr_dir + '/input/diff_plddt_data/nesp-kvigly-test-mutation-pdbs/{}{}{}_unrelaxed_rank_1_model_3.pdb'.format(row['wt'], row['resid'], row['mut'])\n",
    "    if os.path.exists(file_path):\n",
    "        tdf = (\n",
    "            pd.read_csv(file_path, sep='\\s+')\n",
    "            .loc['ATOM'].reset_index()\n",
    "            .loc[:, ['level_4', 'MODEL']].drop_duplicates()\n",
    "            .rename(columns={'level_4':'resid', 'MODEL':'plddt'})\n",
    "            .astype({'resid':int})\n",
    "            .set_index('resid')\n",
    "        )\n",
    "        plddtdiff.append((tdf.loc[row['resid']] - wt_plddt.loc[row['resid']]).values[0])\n",
    "    else:\n",
    "        plddtdiff.append(np.nan)\n",
    "\n",
    "test_df['plddtdiff'] = plddtdiff\n",
    "test_df['plddtdiff_rank'] = rankdata(test_df['plddtdiff'])\n",
    "\n",
    "test_df"
   ]
  },
  {
   "cell_type": "markdown",
   "metadata": {},
   "source": [
    "## DeepDDG"
   ]
  },
  {
   "cell_type": "code",
   "execution_count": null,
   "metadata": {},
   "outputs": [],
   "source": [
    "ddg = pd.read_csv(curr_dir + '/output/ddgout.csv')\n",
    "print(ddg)\n",
    "\n",
    "ddg_rank = ddg['ddg_rank']\n",
    "test_df.merge(ddg_rank)\n",
    "\n",
    "test_df\n"
   ]
  },
  {
   "cell_type": "markdown",
   "metadata": {},
   "source": [
    "## DeMask"
   ]
  },
  {
   "cell_type": "code",
   "execution_count": null,
   "metadata": {},
   "outputs": [],
   "source": [
    "demask = pd.read_csv(curr_dir + '/input/demask_data/demaskout.txt', sep='\\t', usecols=[0,1,2,3], names=['resid','wt','mut','demask'], skiprows=1)\n",
    "print(demask)\n",
    "\n",
    "# Add DeMask output to the testing set:\n",
    "test_df = pd.merge(\n",
    "    test_df.set_index(['wt','resid','mut']),\n",
    "    demask.set_index(['wt','resid','mut']),\n",
    "    left_index=True,\n",
    "    right_index=True,\n",
    "    how='left'\n",
    ").reset_index()\n",
    "\n",
    "test_df.loc[test_df['type']=='WT','demask'] = 0\n",
    "test_df.loc[test_df['type']=='DEL','demask'] = test_df['demask'].dropna().min()\n",
    "\n",
    "\n",
    "test_df['demask_rank'] = rankdata(test_df['demask'])\n",
    "\n",
    "test_df"
   ]
  },
  {
   "cell_type": "markdown",
   "metadata": {},
   "source": [
    "## RMSD"
   ]
  },
  {
   "cell_type": "code",
   "execution_count": null,
   "metadata": {},
   "outputs": [],
   "source": [
    "# Read VMD/NAMD output:\n",
    "namd = pd.read_csv(curr_dir + '/input/RMSD_data/novozymes-md2/residue_rmsd_sasa_last.dat', sep='\\t', header=None, names=['resid','rmsd','sasa0','sasaf'])\n",
    "\n",
    "# Add VMD/NAMD results to the testing set:\n",
    "test_df = pd.merge(\n",
    "    test_df,\n",
    "    namd[['resid','rmsd']],\n",
    "    left_on='resid',\n",
    "    right_on='resid',\n",
    "    how='left'\n",
    ")\n",
    "\n",
    "test_df.loc[test_df['type']=='WT','rmsd'] = test_df['rmsd'].dropna().max()\n",
    "# test_df.loc[test_df['type']=='WT','sasaf'] = test_df['sasaf'].dropna().max()\n",
    "\n",
    "test_df['rmsd_rank'] = rankdata(test_df['rmsd'])\n",
    "\n",
    "test_df"
   ]
  },
  {
   "cell_type": "markdown",
   "metadata": {},
   "source": [
    "## SASA"
   ]
  },
  {
   "cell_type": "code",
   "execution_count": null,
   "metadata": {},
   "outputs": [],
   "source": [
    "# Read VMD/NAMD output:\n",
    "namd = pd.read_csv(curr_dir + '/input/SASA_data/novozymes-md/residue_rmsd_sasa_last.dat', sep='\\t', header=None, names=['resid','rmsd','sasa0','sasaf'])\n",
    "\n",
    "# Add VMD/NAMD results to the testing set:\n",
    "test_df = pd.merge(\n",
    "    test_df,\n",
    "    namd[['resid','sasaf']],\n",
    "    left_on='resid',\n",
    "    right_on='resid',\n",
    "    how='left'\n",
    ")\n",
    "\n",
    "# test_df.loc[test_df['type']=='WT','rmsd'] = test_df['rmsd'].dropna().max()\n",
    "test_df.loc[test_df['type']=='WT','sasaf'] = test_df['sasaf'].dropna().max()\n",
    "test_df['sasaf_rank'] = rankdata(test_df['sasaf'])\n",
    "\n",
    "test_df"
   ]
  },
  {
   "cell_type": "markdown",
   "metadata": {},
   "source": [
    "## Rosetta"
   ]
  },
  {
   "cell_type": "code",
   "execution_count": null,
   "metadata": {},
   "outputs": [],
   "source": [
    "test_df['rosetta_rank'] = pd.read_csv('/input/rosetta_data/submission_rosetta_scores')['tm']\n",
    "\n",
    "test_df"
   ]
  },
  {
   "cell_type": "markdown",
   "metadata": {},
   "source": [
    "## Thermonet"
   ]
  },
  {
   "cell_type": "code",
   "execution_count": null,
   "metadata": {},
   "outputs": [],
   "source": [
    "test_df['thermonet'] = pd.read_csv('/input/thermonet_data/submission.csv')['tm']\n",
    "test_df['thermonet_rank'] = rankdata(test_df['thermonet'])"
   ]
  },
  {
   "cell_type": "markdown",
   "metadata": {},
   "source": [
    "## Export Model Results Before Ensembling"
   ]
  },
  {
   "cell_type": "code",
   "execution_count": null,
   "metadata": {},
   "outputs": [],
   "source": [
    "print('Final test dataframe with rank scores:')\n",
    "print(test_df.head())\n",
    "test_df.to_csv('ensemble.csv', index=False)"
   ]
  },
  {
   "cell_type": "markdown",
   "metadata": {},
   "source": [
    "# Ensemble"
   ]
  },
  {
   "cell_type": "code",
   "execution_count": null,
   "metadata": {},
   "outputs": [],
   "source": [
    "def rank_nrom(name):\n",
    "    s = test_df['{}_rank'.format(name)]\n",
    "    return s/s.max()"
   ]
  },
  {
   "cell_type": "code",
   "execution_count": null,
   "metadata": {},
   "outputs": [],
   "source": [
    "# Ensemble insertion and substitution type mutations\n",
    "test_df['tm'] = (\n",
    "    5*rank_nrom('rosetta') + 3*rank_nrom('rmsd') + 3*rank_nrom('thermonet') + 3*rank_nrom('plddtdiff') +\\\n",
    "    rank_nrom('sasaf') + rank_nrom('plddt') + rank_nrom('demask') + rank_nrom('ddg') + rank_nrom('blosum')\n",
    ")\n",
    "\n",
    "# Normalize results\n",
    "test_df['tm'] = test_df['tm']/test_df['tm'].max()\n",
    "\n",
    "# Ensemble deletion type mutations\n",
    "idx = test_df[test_df['type']==\"DEL\"].index\n",
    "test_df.loc[idx, 'tm'] = (\n",
    "    2*rank_nrom('plddt')[idx] + 2*rank_nrom('plddtdiff')[idx] + rank_nrom('rmsd')[idx] + rank_nrom('sasaf')[idx]\n",
    ") / 6\n",
    "\n",
    "# Ensemble wildtype mutation\n",
    "test_df.loc[test_df['type']==\"WT\",'tm'] = test_df['tm'].max()+1\n",
    "\n",
    "# Rank data\n",
    "test_df['tm'] = rankdata(test_df['tm'])\n",
    "test_df['tm_rank'] = test_df['tm']\n",
    "\n",
    "# Save final submission\n",
    "test_df[['seq_id','tm']].to_csv('submission_final.csv', index=False)"
   ]
  }
 ],
 "metadata": {
  "kernelspec": {
   "display_name": "Python 3 (ipykernel)",
   "language": "python",
   "name": "python3"
  },
  "language_info": {
   "codemirror_mode": {
    "name": "ipython",
    "version": 3
   },
   "file_extension": ".py",
   "mimetype": "text/x-python",
   "name": "python",
   "nbconvert_exporter": "python",
   "pygments_lexer": "ipython3",
   "version": "3.9.6"
  }
 },
 "nbformat": 4,
 "nbformat_minor": 4
}
